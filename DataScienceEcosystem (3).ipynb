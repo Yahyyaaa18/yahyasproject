{
 "cells": [
  {
   "cell_type": "markdown",
   "id": "2639041b-1827-47d3-94b6-29c3aa1b5098",
   "metadata": {},
   "source": [
    "# Data Science Tools and Ecosystem"
   ]
  },
  {
   "cell_type": "markdown",
   "id": "1cf7dc24-4ef7-4a28-b4d3-b0c42465bd23",
   "metadata": {},
   "source": [
    "In this notebook, Data Science Tools and Ecosystem are summarized."
   ]
  },
  {
   "cell_type": "markdown",
   "id": "6b579048-fa52-40c4-8408-d20c75bb0665",
   "metadata": {},
   "source": [
    "**objectives**\n",
    "- list popular languages for data science\n",
    "- list popular ;ibraries for data science\n",
    "- add comments to code cells\n",
    "- create markdown cells"
   ]
  },
  {
   "cell_type": "markdown",
   "id": "1009e593-7c7a-4be1-afa5-c5ae601ad152",
   "metadata": {},
   "source": [
    "Some of the popular languages that Data Scientists use are:\n",
    "1. python\n",
    "2. R\n",
    "3. SQL"
   ]
  },
  {
   "cell_type": "markdown",
   "id": "46322a96-46f8-4658-9402-40b2c20e6974",
   "metadata": {},
   "source": [
    "Some of the commonly used libraries used by Data Scientists include:\n",
    "1. TensorFlow\n",
    "2. Pandas\n",
    "3. Numpy"
   ]
  },
  {
   "cell_type": "markdown",
   "id": "b4fe92b9-3915-4d09-a6a0-411ba37a02f3",
   "metadata": {},
   "source": [
    "|Data Science Tools|\n",
    "|------------------|\n",
    "|1. Apache Hadoop|\n",
    "|2. Spyder|\n",
    "|3. SAS|"
   ]
  },
  {
   "cell_type": "markdown",
   "id": "59551ad2-e2b3-4052-b54a-aa8723866968",
   "metadata": {},
   "source": [
    "### Below are a few examples of evaluating arithmetic expressions in Python"
   ]
  },
  {
   "cell_type": "code",
   "execution_count": 12,
   "id": "668cdf94-978f-452d-a772-792d86013b0d",
   "metadata": {},
   "outputs": [
    {
     "data": {
      "text/plain": [
       "17"
      ]
     },
     "execution_count": 12,
     "metadata": {},
     "output_type": "execute_result"
    }
   ],
   "source": [
    "#this is a simple arithmetic expression to multiply then add intergers\n",
    "(3*4)+5"
   ]
  },
  {
   "cell_type": "code",
   "execution_count": 13,
   "id": "43ac708c-c9b2-4792-b99a-99301f2ddd1a",
   "metadata": {},
   "outputs": [
    {
     "data": {
      "text/plain": [
       "3.3333333333333335"
      ]
     },
     "execution_count": 13,
     "metadata": {},
     "output_type": "execute_result"
    }
   ],
   "source": [
    "#This will convert 200 minutes to hours by diving by 60\n",
    "200/60"
   ]
  },
  {
   "cell_type": "markdown",
   "id": "f392e6fb-4050-41ac-b22f-cffceac51d16",
   "metadata": {},
   "source": [
    "## Author\n",
    "   Yahya Mohamed"
   ]
  },
  {
   "cell_type": "code",
   "execution_count": null,
   "id": "b23e1dd6-71e6-48ec-8cb9-32ae40c50dd6",
   "metadata": {},
   "outputs": [],
   "source": []
  }
 ],
 "metadata": {
  "kernelspec": {
   "display_name": "Python 3 (ipykernel)",
   "language": "python",
   "name": "python3"
  },
  "language_info": {
   "codemirror_mode": {
    "name": "ipython",
    "version": 3
   },
   "file_extension": ".py",
   "mimetype": "text/x-python",
   "name": "python",
   "nbconvert_exporter": "python",
   "pygments_lexer": "ipython3",
   "version": "3.11.7"
  }
 },
 "nbformat": 4,
 "nbformat_minor": 5
}
